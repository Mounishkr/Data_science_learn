{
 "cells": [
  {
   "cell_type": "code",
   "execution_count": 3,
   "id": "95ec76e0-1d2a-4938-b3d1-6ccaa721195e",
   "metadata": {},
   "outputs": [
    {
     "name": "stdout",
     "output_type": "stream",
     "text": [
      "Requirement already satisfied: nltk in /opt/anaconda3/lib/python3.11/site-packages (3.8.1)\n",
      "Requirement already satisfied: click in /opt/anaconda3/lib/python3.11/site-packages (from nltk) (8.1.7)\n",
      "Requirement already satisfied: joblib in /opt/anaconda3/lib/python3.11/site-packages (from nltk) (1.2.0)\n",
      "Requirement already satisfied: regex>=2021.8.3 in /opt/anaconda3/lib/python3.11/site-packages (from nltk) (2023.12.25)\n",
      "Requirement already satisfied: tqdm in /opt/anaconda3/lib/python3.11/site-packages (from nltk) (4.65.0)\n"
     ]
    },
    {
     "name": "stderr",
     "output_type": "stream",
     "text": [
      "[nltk_data] Downloading package punkt to\n",
      "[nltk_data]     /Users/m.mounishkumar/nltk_data...\n",
      "[nltk_data]   Package punkt is already up-to-date!\n"
     ]
    },
    {
     "data": {
      "text/plain": [
       "True"
      ]
     },
     "execution_count": 3,
     "metadata": {},
     "output_type": "execute_result"
    }
   ],
   "source": [
    "!pip install nltk\n",
    "import nltk\n",
    "nltk.download('punkt')\n"
   ]
  },
  {
   "cell_type": "code",
   "execution_count": 43,
   "id": "44f80b08-a67f-4133-9764-980accdec814",
   "metadata": {},
   "outputs": [],
   "source": [
    "corpus=\"\"\"Hello Welcome, I am Mounish kumar. \n",
    "I am student at SRM University!.\n",
    "It is main branch of SRM's campuse's.\n",
    "My email address mounishkr@gmail.com\"\"\""
   ]
  },
  {
   "cell_type": "code",
   "execution_count": 45,
   "id": "fb57ce91-bb58-4b97-823a-b1d858ee6616",
   "metadata": {},
   "outputs": [
    {
     "name": "stdout",
     "output_type": "stream",
     "text": [
      "Hello Welcome, I am Mounish kumar. \n",
      "I am student at SRM University!.\n",
      "It is main branch of SRM's campuse's.\n",
      "My email address mounishkr@gmail.com\n"
     ]
    }
   ],
   "source": [
    "print(corpus)"
   ]
  },
  {
   "cell_type": "code",
   "execution_count": 47,
   "id": "2d9fa679-ef25-4fc7-b83c-b05497d5fd72",
   "metadata": {},
   "outputs": [],
   "source": [
    "## Tokinization\n",
    "### Sentence --> paragraphs\n",
    "\n",
    "from nltk.tokenize import sent_tokenize\n",
    "from nltk.tokenize import word_tokenize"
   ]
  },
  {
   "cell_type": "code",
   "execution_count": 49,
   "id": "998aaaa5-2a39-4e97-a925-edea8e63265b",
   "metadata": {},
   "outputs": [
    {
     "data": {
      "text/plain": [
       "['Hello',\n",
       " 'Welcome',\n",
       " ',',\n",
       " 'I',\n",
       " 'am',\n",
       " 'Mounish',\n",
       " 'kumar',\n",
       " '.',\n",
       " 'I',\n",
       " 'am',\n",
       " 'student',\n",
       " 'at',\n",
       " 'SRM',\n",
       " 'University',\n",
       " '!',\n",
       " '.',\n",
       " 'It',\n",
       " 'is',\n",
       " 'main',\n",
       " 'branch',\n",
       " 'of',\n",
       " 'SRM',\n",
       " \"'s\",\n",
       " 'campuse',\n",
       " \"'s\",\n",
       " '.',\n",
       " 'My',\n",
       " 'email',\n",
       " 'address',\n",
       " 'mounishkr',\n",
       " '@',\n",
       " 'gmail.com']"
      ]
     },
     "execution_count": 49,
     "metadata": {},
     "output_type": "execute_result"
    }
   ],
   "source": [
    "word_tokenize(corpus)"
   ]
  },
  {
   "cell_type": "code",
   "execution_count": 51,
   "id": "cffdc341-3613-4642-bbf9-b37a9e137874",
   "metadata": {},
   "outputs": [],
   "source": [
    "document = sent_tokenize(corpus)"
   ]
  },
  {
   "cell_type": "code",
   "execution_count": 53,
   "id": "cd8c5cda-a86b-40ac-aa1a-5a85e35bffff",
   "metadata": {},
   "outputs": [
    {
     "data": {
      "text/plain": [
       "list"
      ]
     },
     "execution_count": 53,
     "metadata": {},
     "output_type": "execute_result"
    }
   ],
   "source": [
    "type(document)"
   ]
  },
  {
   "cell_type": "code",
   "execution_count": 55,
   "id": "5e4450a4-8c27-4c53-adac-ecfd766ac7b8",
   "metadata": {},
   "outputs": [
    {
     "name": "stdout",
     "output_type": "stream",
     "text": [
      "Hello Welcome, I am Mounish kumar.\n",
      "I am student at SRM University!.\n",
      "It is main branch of SRM's campuse's.\n",
      "My email address mounishkr@gmail.com\n"
     ]
    }
   ],
   "source": [
    "for sentence in document:\n",
    "    print(sentence)"
   ]
  },
  {
   "cell_type": "code",
   "execution_count": 57,
   "id": "6e6b46d3-7d4b-4456-892a-86e3565afb63",
   "metadata": {},
   "outputs": [],
   "source": [
    "## Tokenization\n",
    "## paragraph -> words\n",
    "## sentence -> words\n",
    "from nltk.tokenize import word_tokenize"
   ]
  },
  {
   "cell_type": "code",
   "execution_count": 59,
   "id": "545826b7-1fc8-4ef8-afa1-e517dc54a18e",
   "metadata": {},
   "outputs": [
    {
     "data": {
      "text/plain": [
       "['Hello',\n",
       " 'Welcome',\n",
       " ',',\n",
       " 'I',\n",
       " 'am',\n",
       " 'Mounish',\n",
       " 'kumar',\n",
       " '.',\n",
       " 'I',\n",
       " 'am',\n",
       " 'student',\n",
       " 'at',\n",
       " 'SRM',\n",
       " 'University',\n",
       " '!',\n",
       " '.',\n",
       " 'It',\n",
       " 'is',\n",
       " 'main',\n",
       " 'branch',\n",
       " 'of',\n",
       " 'SRM',\n",
       " \"'s\",\n",
       " 'campuse',\n",
       " \"'s\",\n",
       " '.',\n",
       " 'My',\n",
       " 'email',\n",
       " 'address',\n",
       " 'mounishkr',\n",
       " '@',\n",
       " 'gmail.com']"
      ]
     },
     "execution_count": 59,
     "metadata": {},
     "output_type": "execute_result"
    }
   ],
   "source": [
    "word_tokenize(corpus)"
   ]
  },
  {
   "cell_type": "code",
   "execution_count": 61,
   "id": "72207e7a-7d00-408a-84fb-d511d071e7de",
   "metadata": {},
   "outputs": [],
   "source": [
    "from nltk.tokenize import TreebankWordTokenizer"
   ]
  },
  {
   "cell_type": "code",
   "execution_count": 63,
   "id": "5f8acbbe-0a91-46c5-a913-3462299a865f",
   "metadata": {},
   "outputs": [],
   "source": [
    "tokenizer=TreebankWordTokenizer()"
   ]
  },
  {
   "cell_type": "code",
   "execution_count": 65,
   "id": "03e12750-ead9-43a0-acc7-fcbd3e28f306",
   "metadata": {},
   "outputs": [
    {
     "data": {
      "text/plain": [
       "['Hello',\n",
       " 'Welcome',\n",
       " ',',\n",
       " 'I',\n",
       " 'am',\n",
       " 'Mounish',\n",
       " 'kumar.',\n",
       " 'I',\n",
       " 'am',\n",
       " 'student',\n",
       " 'at',\n",
       " 'SRM',\n",
       " 'University',\n",
       " '!',\n",
       " '.',\n",
       " 'It',\n",
       " 'is',\n",
       " 'main',\n",
       " 'branch',\n",
       " 'of',\n",
       " 'SRM',\n",
       " \"'s\",\n",
       " \"campuse's.\",\n",
       " 'My',\n",
       " 'email',\n",
       " 'address',\n",
       " 'mounishkr',\n",
       " '@',\n",
       " 'gmail.com']"
      ]
     },
     "execution_count": 65,
     "metadata": {},
     "output_type": "execute_result"
    }
   ],
   "source": [
    "tokenizer.tokenize(corpus)"
   ]
  },
  {
   "cell_type": "code",
   "execution_count": 69,
   "id": "62b7fa2c-41de-4429-80a0-9e2d6b535ded",
   "metadata": {},
   "outputs": [],
   "source": [
    "# Previously we have used the word tokenize but it didnt identify 's apostrofy but in the TreebankWordTokenize it has identified it\n",
    "# full stop is not a seperate word but only the last full stop is considered as a word"
   ]
  },
  {
   "cell_type": "code",
   "execution_count": null,
   "id": "7c7b5d08-9044-4af8-ac21-8bb6d31299eb",
   "metadata": {},
   "outputs": [],
   "source": []
  }
 ],
 "metadata": {
  "kernelspec": {
   "display_name": "Python 3 (ipykernel)",
   "language": "python",
   "name": "python3"
  },
  "language_info": {
   "codemirror_mode": {
    "name": "ipython",
    "version": 3
   },
   "file_extension": ".py",
   "mimetype": "text/x-python",
   "name": "python",
   "nbconvert_exporter": "python",
   "pygments_lexer": "ipython3",
   "version": "3.11.7"
  }
 },
 "nbformat": 4,
 "nbformat_minor": 5
}
