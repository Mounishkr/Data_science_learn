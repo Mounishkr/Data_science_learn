{
 "cells": [
  {
   "cell_type": "code",
   "execution_count": null,
   "id": "b5f10d44-a8df-48d2-8748-46b4c41541cd",
   "metadata": {},
   "outputs": [],
   "source": []
  },
  {
   "cell_type": "code",
   "execution_count": null,
   "id": "a8602e02-5a2b-4031-bf2d-bc9b20e55750",
   "metadata": {},
   "outputs": [],
   "source": [
    "#Create the bag of words of words model \n",
    "from sklearn.feature_extraction.text import CountVectorizer\n",
    "#For binary BOW enable binary=True\n",
    "cv=CountVectorizer(max_features=100,binary=True,ngram_range=(1,1))\n",
    "X=cv.fit_transform(corpus).toarray()"
   ]
  }
 ],
 "metadata": {
  "kernelspec": {
   "display_name": "Python 3 (ipykernel)",
   "language": "python",
   "name": "python3"
  },
  "language_info": {
   "codemirror_mode": {
    "name": "ipython",
    "version": 3
   },
   "file_extension": ".py",
   "mimetype": "text/x-python",
   "name": "python",
   "nbconvert_exporter": "python",
   "pygments_lexer": "ipython3",
   "version": "3.11.7"
  }
 },
 "nbformat": 4,
 "nbformat_minor": 5
}
