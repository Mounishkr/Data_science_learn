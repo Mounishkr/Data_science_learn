{
 "cells": [
  {
   "cell_type": "markdown",
   "id": "9a6e75d1-78c7-4579-8b17-c1cacf219558",
   "metadata": {},
   "source": [
    "## Parts of Speech"
   ]
  },
  {
   "cell_type": "raw",
   "id": "8fbfedb4-68e5-48a2-8397-b249796d6b1b",
   "metadata": {},
   "source": [
    "1 CC coordinating conjunction\n",
    "2 CD cardinal digit\n",
    "3 DT determiner\n",
    "4 EX existential there (like: \"there is\" think of it like \"there exists\")\n",
    "5 FW foreign word\n",
    "6 IN preposition/subordinating conjunction\n",
    "7 JJ adjective - 'big'\n",
    "8 JJR adjective, comparative 'bigger'\n",
    "9 JJS adjective, superlative 'biggest'\n",
    "10 LS list marker 1)\n",
    "11 MD modal could, will\n",
    "12 NN noun, singular - desk' NNS noun plural 'desks'\n",
    "13 NNS noun plural - 'desks'\n",
    "14 NNP proper noun, singular 'Harrison'\n",
    "15 NNPS proper noun, plural 'Americans'\n",
    "16 PDT predeterminer all the kids'\n",
    "17 POS possessive ending parent's\n",
    "18 PRP personal pronoun I, he, she\n",
    "19 PRP$ possessive pronoun my, his, hers\n",
    "20 RB adverb very, silently,\r\n",
    "21 RBR adverb, comparative better\r\n",
    "22 RBS adverb, superlative best\r\n",
    "23 RP particle - give up\r\n",
    "24 ΤΟ to go 'to' the store.\r\n",
    "25 UH interjnction\r\n",
    "26 VB verb, base form take\r\n",
    "27 VBD verb, past tense took\r\n",
    "28 VBG verb, gerund/present participle taking\r\n",
    "29 VBN verb, past participle taken\r\n",
    "30 VBP verb, sing. present, non-3d take\r\n",
    "31 VBZ verb, 3rd person sing. present takes\r\n",
    "32 WDT w -h-dethrminer which\r\n",
    "33  -WP wh-pronoun who, what\r\n",
    "34 WP$ possssive wh-pron\n",
    "oun, eg- whose\r\n",
    "35 WRB wh-adverb, eg where, when eg where, when"
   ]
  },
  {
   "cell_type": "code",
   "execution_count": 4,
   "id": "52528b98-26ba-40f3-8b71-46c8225396a2",
   "metadata": {},
   "outputs": [],
   "source": [
    "paragraph = \"\"\" My second vision for India's DEVELOPMENT, For fifty years we have been A developing nation. It is time we see ourselves as a developed nation. We are among top 5 nations of the world in terms of GDP. We have 10 percent growth rate in most areas. Our poverty levels are falling. Our achievements are being globally recognized today. Yet we lack the self-confidence to see ourselves as a developed nation, self-reliant and self-assured. Isn't this incorrect?\n",
    "I have a THIRD vision. India must stand up to the world. Because I believe that, unless India stands up to the world, no one will respect us. Only strength respects strength. We must be strong not only as a military power but also as an economic power. Both must go hand-in-hand. My good fortune was to have worked with three great minds. Dr. Vikram Sarabhai of the Dept. of space, Professor Satish Dhawan, who succeeded him and Dr.Brahm Prakash, father of nuclear material. I was lucky to have worked with all three of them closely and consider this the great opportunity of my life.\n",
    "I see four milestones in my career \"\"\""
   ]
  },
  {
   "cell_type": "code",
   "execution_count": 27,
   "id": "4c82f4f4-a4af-45b8-ab84-682d161d4d59",
   "metadata": {},
   "outputs": [
    {
     "name": "stdout",
     "output_type": "stream",
     "text": [
      "Requirement already satisfied: nltk in /opt/anaconda3/lib/python3.11/site-packages (3.8.1)\n",
      "Requirement already satisfied: click in /opt/anaconda3/lib/python3.11/site-packages (from nltk) (8.1.7)\n",
      "Requirement already satisfied: joblib in /opt/anaconda3/lib/python3.11/site-packages (from nltk) (1.2.0)\n",
      "Requirement already satisfied: regex>=2021.8.3 in /opt/anaconda3/lib/python3.11/site-packages (from nltk) (2023.12.25)\n",
      "Requirement already satisfied: tqdm in /opt/anaconda3/lib/python3.11/site-packages (from nltk) (4.65.0)\n"
     ]
    },
    {
     "name": "stderr",
     "output_type": "stream",
     "text": [
      "[nltk_data] Downloading package averaged_perceptron_tagger to\n",
      "[nltk_data]     /Users/m.mounishkumar/nltk_data...\n",
      "[nltk_data]   Unzipping taggers/averaged_perceptron_tagger.zip.\n"
     ]
    }
   ],
   "source": [
    "!pip install nltk\n",
    "import nltk\n",
    "nltk.download('averaged_perceptron_tagger')\n",
    "from nltk.stem import PorterStemmer\n",
    "from nltk.corpus import stopwords\n",
    "stemmer=PorterStemmer()\n",
    "sentences=nltk.sent_tokenize(paragraph)"
   ]
  },
  {
   "cell_type": "code",
   "execution_count": 29,
   "id": "6311efe8-3415-4cd2-83a2-b213e8a09c4e",
   "metadata": {},
   "outputs": [
    {
     "name": "stdout",
     "output_type": "stream",
     "text": [
      "[('my', 'PRP$'), ('second', 'JJ'), ('vision', 'NN'), ('india', 'NN'), (\"'s\", 'POS'), ('develop', 'NN'), (',', ','), ('for', 'IN'), ('fifti', 'JJ'), ('year', 'NN'), ('a', 'DT'), ('develop', 'NN'), ('nation', 'NN'), ('.', '.')]\n",
      "[('it', 'PRP'), ('time', 'NN'), ('see', 'VB'), ('develop', 'JJ'), ('nation', 'NN'), ('.', '.')]\n",
      "[('we', 'PRP'), ('among', 'IN'), ('top', 'JJ'), ('5', 'CD'), ('nation', 'NN'), ('world', 'NN'), ('term', 'NN'), ('gdp', 'NN'), ('.', '.')]\n",
      "[('we', 'PRP'), ('10', 'CD'), ('percent', 'JJ'), ('growth', 'NN'), ('rate', 'NN'), ('area', 'NN'), ('.', '.')]\n",
      "[('our', 'PRP$'), ('poverti', 'NNS'), ('level', 'VBP'), ('fall', 'NN'), ('.', '.')]\n",
      "[('our', 'PRP$'), ('achiev', 'NN'), ('global', 'JJ'), ('recogn', 'NN'), ('today', 'NN'), ('.', '.')]\n",
      "[('yet', 'RB'), ('lack', 'JJ'), ('self-confid', 'JJ'), ('see', 'NN'), ('develop', 'VB'), ('nation', 'NN'), (',', ','), ('self-reli', 'JJ'), ('self-assur', 'NN'), ('.', '.')]\n",
      "[('is', 'VBZ'), (\"n't\", 'RB'), ('incorrect', 'VB'), ('?', '.')]\n",
      "[('i', 'JJ'), ('third', 'JJ'), ('vision', 'NN'), ('.', '.')]\n",
      "[('india', 'NN'), ('must', 'MD'), ('stand', 'VB'), ('world', 'NN'), ('.', '.')]\n",
      "[('becaus', 'NN'), ('i', 'NN'), ('believ', 'NN'), (',', ','), ('unless', 'IN'), ('india', 'JJ'), ('stand', 'NN'), ('world', 'NN'), (',', ','), ('one', 'CD'), ('respect', 'NN'), ('us', 'PRP'), ('.', '.')]\n",
      "[('onli', 'JJ'), ('strength', 'NN'), ('respect', 'NN'), ('strength', 'NN'), ('.', '.')]\n",
      "[('we', 'PRP'), ('must', 'MD'), ('strong', 'JJ'), ('militari', 'NN'), ('power', 'NN'), ('also', 'RB'), ('econom', 'JJ'), ('power', 'NN'), ('.', '.')]\n",
      "[('both', 'DT'), ('must', 'MD'), ('go', 'VB'), ('hand-in-hand', 'NN'), ('.', '.')]\n",
      "[('my', 'PRP$'), ('good', 'JJ'), ('fortun', 'NN'), ('work', 'NN'), ('three', 'CD'), ('great', 'JJ'), ('mind', 'NN'), ('.', '.')]\n",
      "[('dr.', 'NN'), ('vikram', 'NN'), ('sarabhai', 'NN'), ('dept', 'NN'), ('.', '.')]\n",
      "[('space', 'NN'), (',', ','), ('professor', 'NN'), ('satish', 'JJ'), ('dhawan', 'NN'), (',', ','), ('succeed', 'VB'), ('dr.brahm', 'JJ'), ('prakash', 'NN'), (',', ','), ('father', 'RB'), ('nuclear', 'JJ'), ('materi', 'NN'), ('.', '.')]\n",
      "[('i', 'NN'), ('lucki', 'NN'), ('work', 'NN'), ('three', 'CD'), ('close', 'JJ'), ('consid', 'NN'), ('great', 'JJ'), ('opportun', 'JJ'), ('life', 'NN'), ('.', '.')]\n",
      "[('i', 'NNS'), ('see', 'VBP'), ('four', 'CD'), ('mileston', 'NNS'), ('career', 'NN')]\n"
     ]
    }
   ],
   "source": [
    "#Apply Stop words and filter and then apply stemming\n",
    "\n",
    "for i in range(len(sentences)):\n",
    "    words=nltk.word_tokenize(sentences[i])\n",
    "    words=[stemmer.stem(word) for word in words if word not in set(stopwords.words('english'))]\n",
    "    #sentences[i]=' '.join(words) #converting all the words into sentences\n",
    "    pos_tag=nltk.pos_tag(words)\n",
    "    print(pos_tag)\n",
    "    "
   ]
  },
  {
   "cell_type": "code",
   "execution_count": 63,
   "id": "25e0c0c3-d5c2-4512-8fa7-adef6df5277b",
   "metadata": {},
   "outputs": [
    {
     "data": {
      "text/plain": [
       "['Taj', 'Mahal', 'is', 'a', 'beautiful', 'Monument']"
      ]
     },
     "execution_count": 63,
     "metadata": {},
     "output_type": "execute_result"
    }
   ],
   "source": [
    "\"Taj Mahal is a beautiful Monument\".split()"
   ]
  },
  {
   "cell_type": "code",
   "execution_count": 71,
   "id": "00ded8f2-63c5-4333-a16c-d86af5709875",
   "metadata": {},
   "outputs": [
    {
     "name": "stdout",
     "output_type": "stream",
     "text": [
      "[('i', 'NNS'), ('see', 'VBP'), ('four', 'CD'), ('mileston', 'NNS'), ('career', 'NN')]\n",
      "[('i', 'NNS'), ('see', 'VBP'), ('four', 'CD'), ('mileston', 'NNS'), ('career', 'NN')]\n",
      "[('i', 'NNS'), ('see', 'VBP'), ('four', 'CD'), ('mileston', 'NNS'), ('career', 'NN')]\n",
      "[('i', 'NNS'), ('see', 'VBP'), ('four', 'CD'), ('mileston', 'NNS'), ('career', 'NN')]\n",
      "[('i', 'NNS'), ('see', 'VBP'), ('four', 'CD'), ('mileston', 'NNS'), ('career', 'NN')]\n",
      "[('i', 'NNS'), ('see', 'VBP'), ('four', 'CD'), ('mileston', 'NNS'), ('career', 'NN')]\n"
     ]
    }
   ],
   "source": [
    "for i in \"Taj Mahal is a beautiful Monument\".split():\n",
    "    print(nltk.pos_tag(words))"
   ]
  },
  {
   "cell_type": "code",
   "execution_count": null,
   "id": "d874b194-d6d0-4322-9d52-d49dde9b04bb",
   "metadata": {},
   "outputs": [],
   "source": [
    "print(nltk.pos_tag(\"Taj Mahal is a beatiful Monument\"))"
   ]
  }
 ],
 "metadata": {
  "kernelspec": {
   "display_name": "Python 3 (ipykernel)",
   "language": "python",
   "name": "python3"
  },
  "language_info": {
   "codemirror_mode": {
    "name": "ipython",
    "version": 3
   },
   "file_extension": ".py",
   "mimetype": "text/x-python",
   "name": "python",
   "nbconvert_exporter": "python",
   "pygments_lexer": "ipython3",
   "version": "3.11.7"
  }
 },
 "nbformat": 4,
 "nbformat_minor": 5
}
